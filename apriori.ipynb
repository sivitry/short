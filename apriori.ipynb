{
 "cells": [
  {
   "cell_type": "code",
   "execution_count": 1,
   "metadata": {},
   "outputs": [
    {
     "name": "stdout",
     "output_type": "stream",
     "text": [
      "Rule: e -> m\n",
      "Support: 0.16666666666666666\n",
      "Confidence: 1.0\n",
      "Lift: 6.0\n",
      "=====================================\n",
      "Rule: e -> q\n",
      "Support: 0.16666666666666666\n",
      "Confidence: 1.0\n",
      "Lift: 3.0\n",
      "=====================================\n",
      "Rule: j -> h\n",
      "Support: 0.16666666666666666\n",
      "Confidence: 1.0\n",
      "Lift: 6.0\n",
      "=====================================\n",
      "Rule: h -> p\n",
      "Support: 0.16666666666666666\n",
      "Confidence: 1.0\n",
      "Lift: 3.0\n",
      "=====================================\n",
      "Rule: j -> p\n",
      "Support: 0.16666666666666666\n",
      "Confidence: 1.0\n",
      "Lift: 3.0\n",
      "=====================================\n",
      "Rule: q -> m\n",
      "Support: 0.16666666666666666\n",
      "Confidence: 1.0\n",
      "Lift: 3.0\n",
      "=====================================\n",
      "Rule: n -> o\n",
      "Support: 0.16666666666666666\n",
      "Confidence: 1.0\n",
      "Lift: 6.0\n",
      "=====================================\n",
      "Rule: v -> u\n",
      "Support: 0.16666666666666666\n",
      "Confidence: 1.0\n",
      "Lift: 6.0\n",
      "=====================================\n",
      "Rule: w -> u\n",
      "Support: 0.16666666666666666\n",
      "Confidence: 1.0\n",
      "Lift: 6.0\n",
      "=====================================\n",
      "Rule: v -> w\n",
      "Support: 0.16666666666666666\n",
      "Confidence: 1.0\n",
      "Lift: 6.0\n",
      "=====================================\n"
     ]
    }
   ],
   "source": [
    "from apyori import apriori\n",
    "\n",
    "data = [['r', 'z', 'h', 'j', 'p'],\n",
    "       ['z', 'y', 'x', 'w', 'v', 'u', 't', 's'],\n",
    "       ['z'],\n",
    "       ['r', 'x', 'n', 'o', 's'],\n",
    "       ['y', 'r', 'x', 'z', 'q', 't', 'p'],\n",
    "       ['y', 'z', 'x', 'e', 'q', 's', 't', 'm']]\n",
    "\n",
    "association_rules = apriori(data, min_support=0.16, min_confidence=0.2, min_lift=3, max_length=2) \n",
    "association_results = list(association_rules)\n",
    "\n",
    "for item in association_results:\n",
    "   pair = item[0] \n",
    "   items = [x for x in pair]\n",
    "   print(\"Rule: \" + items[0] + \" -> \" + items[1])\n",
    "   print(\"Support: \" + str(item[1]))\n",
    "   print(\"Confidence: \" + str(item[2][0][2]))\n",
    "   print(\"Lift: \" + str(item[2][0][3]))\n",
    "   print(\"=====================================\")\n"
   ]
  },
  {
   "cell_type": "code",
   "execution_count": null,
   "metadata": {},
   "outputs": [],
   "source": []
  }
 ],
 "metadata": {
  "kernelspec": {
   "display_name": "Python 3",
   "language": "python",
   "name": "python3"
  },
  "language_info": {
   "codemirror_mode": {
    "name": "ipython",
    "version": 3
   },
   "file_extension": ".py",
   "mimetype": "text/x-python",
   "name": "python",
   "nbconvert_exporter": "python",
   "pygments_lexer": "ipython3",
   "version": "3.7.2"
  }
 },
 "nbformat": 4,
 "nbformat_minor": 2
}
